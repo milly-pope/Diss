{
 "cells": [
  {
   "cell_type": "markdown",
   "metadata": {},
   "source": [
    "# Jupyter notebooks for the Python version of GOBNILP"
   ]
  },
  {
   "cell_type": "markdown",
   "metadata": {},
   "source": [
    "\n",
    "At present the following notebooks are available.\n",
    "\n",
    "# Python notebooks\n",
    "\n",
    "* [Basic learning from continuous data](Basic_learning_from_continuous_data.ipynb)\n",
    "* [Basic learning from discrete data](Basic_learning_from_discrete_data.ipynb)\n",
    "* [Understanding Gobnilp's stages of learning](Understanding_Gobnilps_stages_of_learning.ipynb) \n",
    "* [Computing local scores and solving with and without constraints](Computing_local_scores_and_solving_with_and_without_constraints.ipynb)\n",
    "* [Using simple constraints](Using_simple_constraints.ipynb)\n",
    "* [Learning Bayesian networks for a subset of variables](Learning_Bayesian_networks_for_a_subset_of_variables.ipynb)\n",
    "* [Learning multiple related Bayesian networks](Learning_multiple_related_Bayesian_networks.ipynb)\n",
    "* [Using a constraints file](Using_a_constraints_file.ipynb)\n",
    "* [Defining general MIP constraints in a constraints file](Defining_general_MIP_constraints_in_a_constraints_file.ipynb)\n",
    "* [The pitfalls of learning with latent variables](The_pitfalls_of_learning_with_latent_variables.ipynb)\n",
    "\n",
    "\n",
    "# R notebooks\n",
    "\n",
    "* [Calling gobnilp from R](Calling_gobnilp_from_R.ipynb)\n",
    "* [Comparing bnlearn and gobnilp on bigger datasets](bnlearn_and_gobnilp_on_bigger_datasets.ipynb)\n"
   ]
  }
 ],
 "metadata": {
  "kernelspec": {
   "display_name": "Python 3",
   "language": "python",
   "name": "python3"
  },
  "language_info": {
   "codemirror_mode": {
    "name": "ipython",
    "version": 3
   },
   "file_extension": ".py",
   "mimetype": "text/x-python",
   "name": "python",
   "nbconvert_exporter": "python",
   "pygments_lexer": "ipython3",
   "version": "3.6.9"
  }
 },
 "nbformat": 4,
 "nbformat_minor": 2
}

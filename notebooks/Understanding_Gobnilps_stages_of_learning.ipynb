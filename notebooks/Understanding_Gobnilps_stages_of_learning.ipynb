{
 "cells": [
  {
   "cell_type": "markdown",
   "metadata": {},
   "source": [
    "In this notebook the individual stages of learning of Gobnilp are shown. We start by creating a Gobnilp object, printing out (the tuple of) stages and also the stage we are in just after creating the Gobnilp object."
   ]
  },
  {
   "cell_type": "code",
   "execution_count": 1,
   "metadata": {},
   "outputs": [
    {
     "name": "stdout",
     "output_type": "stream",
     "text": [
      "Using license file /home/james/gurobi.lic\n",
      "Academic license - for non-commercial use only\n",
      "Changed value of parameter PreCrush to 1\n",
      "   Prev: 0  Min: 0  Max: 1  Default: 0\n",
      "Changed value of parameter CutPasses to 100000\n",
      "   Prev: -1  Min: -1  Max: 2000000000  Default: -1\n",
      "Changed value of parameter GomoryPasses to 100000\n",
      "   Prev: -1  Min: -1  Max: 2000000000  Default: -1\n",
      "Changed value of parameter MIPFocus to 2\n",
      "   Prev: 0  Min: 0  Max: 3  Default: 0\n",
      "Changed value of parameter ZeroHalfCuts to 2\n",
      "   Prev: -1  Min: -1  Max: 2  Default: -1\n",
      "Changed value of parameter MIPGap to 0.0\n",
      "   Prev: 0.0001  Min: 0.0  Max: inf  Default: 0.0001\n",
      "Changed value of parameter MIPGapAbs to 0.0\n",
      "   Prev: 1e-10  Min: 0.0  Max: inf  Default: 1e-10\n",
      "('no data', 'data', 'local scores', 'MIP model', 'MIP solution', 'BN(s)', 'CPDAG(s)', 'output shown', 'output written')\n",
      "Gobnilp stage = no data, Gurobi status = 1\n"
     ]
    }
   ],
   "source": [
    "from pygobnilp.gobnilp import Gobnilp\n",
    "m = Gobnilp()\n",
    "print(m.stages)\n",
    "print(m.stage)"
   ]
  },
  {
   "cell_type": "markdown",
   "metadata": {},
   "source": [
    "So we start at the `no data` stage, so let's get some data. A typical way to obtain data is to read it in from a file, so let's do that and stop the learning process at the next stage, by specifying that next stage - `data` - as the `end` of the learning process."
   ]
  },
  {
   "cell_type": "code",
   "execution_count": 2,
   "metadata": {},
   "outputs": [],
   "source": [
    "m.learn('discrete.dat',end='data')"
   ]
  },
  {
   "cell_type": "markdown",
   "metadata": {},
   "source": [
    "Now we have data, it can be inspected."
   ]
  },
  {
   "cell_type": "code",
   "execution_count": 3,
   "metadata": {},
   "outputs": [
    {
     "name": "stdout",
     "output_type": "stream",
     "text": [
      "The type of the \"data\" attribute is <class 'pandas.core.frame.DataFrame'>\n",
      "The type of the \"rawdata\" attribute is <class 'numpy.ndarray'>\n",
      "The variables for the data are ('A', 'B', 'C', 'D', 'E', 'F')\n",
      "Here are the first two datapoints:\n",
      "   A  B  C  D  E  F\n",
      "0  0  0  0  0  0  0\n",
      "1  0  1  1  0  0  0\n",
      "Here are the first two datapoints:\n",
      "[[0 0 0 0 0 0]\n",
      " [0 1 1 0 0 0]]\n"
     ]
    }
   ],
   "source": [
    "print('The type of the \"data\" attribute is {0}'.format(type(m.data)))\n",
    "print('The type of the \"rawdata\" attribute is {0}'.format(type(m.rawdata)))\n",
    "print('The variables for the data are {0}'.format(m.data_variables))\n",
    "print('Here are the first two datapoints:\\n{0}'.format(m.data[:2]))\n",
    "print('Here are the first two datapoints:\\n{0}'.format(m.rawdata[:2]))"
   ]
  },
  {
   "cell_type": "markdown",
   "metadata": {},
   "source": [
    "So the data can either be accessed as a Pandas dataframe or a Numpy array. Use whichever\n",
    "is more convenient. We can now move on another stage by computing local scores. We specify that we `start` at the `data` stage. Had we not done that the default of `start='no data'` would be used (and since no data is specified an error would be raised)."
   ]
  },
  {
   "cell_type": "code",
   "execution_count": 4,
   "metadata": {},
   "outputs": [
    {
     "name": "stdout",
     "output_type": "stream",
     "text": [
      "dict_keys(['A', 'B', 'C', 'D', 'E', 'F'])\n",
      "{frozenset(): -5502.137377150637, frozenset({'B'}): -4349.791324894952, frozenset({'D'}): -4376.2801910701055, frozenset({'E'}): -5289.02870426271, frozenset({'D', 'B'}): -3504.4066187025273, frozenset({'D', 'C'}): -3589.495045030806, frozenset({'D', 'E'}): -4244.150479815038, frozenset({'F', 'E'}): -5288.503190060048, frozenset({'D', 'C', 'B'}): -3013.608073856336}\n"
     ]
    }
   ],
   "source": [
    "m.learn(start='data',end='local scores')\n",
    "print(m.local_scores.keys())\n",
    "print(m.local_scores['A'])"
   ]
  },
  {
   "cell_type": "markdown",
   "metadata": {},
   "source": [
    "Next we can construct a MIP model - creating MIP variables and constraints. Let's do that, and then print out the dictionary of family variables with child A and then inspect and alter the MIP family variable which indicates that A has B as its only parent."
   ]
  },
  {
   "cell_type": "code",
   "execution_count": 5,
   "metadata": {
    "scrolled": true
   },
   "outputs": [
    {
     "name": "stdout",
     "output_type": "stream",
     "text": [
      "{frozenset(): <gurobi.Var A<-{}>, frozenset({'B'}): <gurobi.Var A<-{B}>, frozenset({'D'}): <gurobi.Var A<-{D}>, frozenset({'E'}): <gurobi.Var A<-{E}>, frozenset({'D', 'B'}): <gurobi.Var A<-{B,D}>, frozenset({'D', 'C'}): <gurobi.Var A<-{C,D}>, frozenset({'D', 'E'}): <gurobi.Var A<-{D,E}>, frozenset({'F', 'E'}): <gurobi.Var A<-{E,F}>, frozenset({'D', 'C', 'B'}): <gurobi.Var A<-{B,C,D}>}\n",
      "<gurobi.Var A<-{B}> 0.0 1.0 -4349.791324894952\n",
      "<gurobi.Var A<-{B}> 1.0 1.0 -4349.791324894952\n"
     ]
    }
   ],
   "source": [
    "m.learn(start='local scores',end='MIP model')\n",
    "print(m.family['A'])\n",
    "v = m.family['A'][frozenset(['B'])]\n",
    "print(v,v.lb,v.ub,v.Obj)\n",
    "v.lb = 1   # fix variable to 1 by setting 1 as its lower bound\n",
    "m.update() # have to update now for new lower bound to take effect immediately\n",
    "print(v,v.lb,v.ub,v.Obj)"
   ]
  },
  {
   "cell_type": "markdown",
   "metadata": {},
   "source": [
    "Now let's solve the MIP instance. Before doing so we set the attribute `Params.OutputFlag` to `True` so we can see Gurobi at work. `Params.OutputFlag` is an attribute of the Gurobi Model class which we can access since the Gobnilp class is a subclass of the Gurobi Model class. "
   ]
  },
  {
   "cell_type": "code",
   "execution_count": 6,
   "metadata": {},
   "outputs": [
    {
     "name": "stdout",
     "output_type": "stream",
     "text": [
      "Changed value of parameter OutputFlag to 1\n",
      "   Prev: 0  Min: 0  Max: 1  Default: 1\n"
     ]
    }
   ],
   "source": [
    "m.Params.OutputFlag = True\n",
    "m.learn(start='MIP model',end='MIP solution')"
   ]
  },
  {
   "cell_type": "markdown",
   "metadata": {},
   "source": [
    "Since this is an easy problem it is solved immediately. We can then see which variables have been set to non-zero values, using the `X` attribute of each variable:"
   ]
  },
  {
   "cell_type": "code",
   "execution_count": 7,
   "metadata": {},
   "outputs": [
    {
     "name": "stdout",
     "output_type": "stream",
     "text": [
      "<gurobi.Var A<-{B} (value 1.0)>\n",
      "<gurobi.Var B<-{} (value 1.0)>\n",
      "<gurobi.Var C<-{} (value 1.0)>\n",
      "<gurobi.Var D<-{A,C} (value 1.0)>\n",
      "<gurobi.Var E<-{B,F} (value 1.0)>\n",
      "<gurobi.Var F<-{} (value 1.0)>\n",
      "<gurobi.Var A->D (value 1.0)>\n",
      "<gurobi.Var B->A (value 1.0)>\n",
      "<gurobi.Var B->E (value 1.0)>\n",
      "<gurobi.Var C->D (value 1.0)>\n",
      "<gurobi.Var F->E (value 1.0)>\n",
      "<gurobi.Var A-B (value 1.0)>\n",
      "<gurobi.Var A-D (value 1.0)>\n",
      "<gurobi.Var B-E (value 1.0)>\n",
      "<gurobi.Var C-D (value 1.0)>\n",
      "<gurobi.Var E-F (value 1.0)>\n"
     ]
    }
   ],
   "source": [
    "for x in m.getVars():\n",
    "    if x.X > 0:\n",
    "        print(x)"
   ]
  },
  {
   "cell_type": "markdown",
   "metadata": {},
   "source": [
    "Sure enough, the family variable `A<-{B}` which we fixed to 1 is set to 1 in the solution obtained. Note that as well as family variables Gobnilp has created arrow and undirected edge indicator variables. "
   ]
  },
  {
   "cell_type": "markdown",
   "metadata": {},
   "source": [
    "The next stage is to convert the MIP solution into a BN, which we can then print out and plot."
   ]
  },
  {
   "cell_type": "code",
   "execution_count": 8,
   "metadata": {},
   "outputs": [
    {
     "name": "stdout",
     "output_type": "stream",
     "text": [
      "<class 'pygobnilp.gobnilp.BN'>\n",
      "**********\n",
      "BN has score -24028.0947783535\n",
      "**********\n",
      "A<-B -4349.791324894952\n",
      "B<- -4841.285573475907\n",
      "C<- -3501.5105385969146\n",
      "D<-A,C -3555.014444236549\n",
      "E<-B,F -4310.304956470649\n",
      "F<- -3470.18794067853\n",
      "**********\n",
      "bnlearn modelstring = \n",
      "[A|B][B][C][D|A:C][E|F:B][F]\n"
     ]
    },
    {
     "data": {
      "image/png": "[encoded data removed]",
      "text/plain": [
       "<Figure size 432x288 with 1 Axes>"
      ]
     },
     "metadata": {},
     "output_type": "display_data"
    }
   ],
   "source": [
    "m.learn(start='MIP solution',end='BN(s)')\n",
    "print(type(m.learned_bn))\n",
    "print(m.learned_bn)\n",
    "m.learned_bn.plot()"
   ]
  },
  {
   "cell_type": "markdown",
   "metadata": {},
   "source": [
    "Next we can create a CPDAG to represent the Markov equivalence class containing the learned BN. The CPDAG is just the BN where we compute which edges are *compelled* to take the same direction in each Markov equivalent BN. Once this has been done (by progressing from the 'BN(s)' stage to the 'CPDAG(s)' stage) we can use the cpdag_str method to get a string representation of the CPDAG and if we plot the BN the compelled edges will be in red."
   ]
  },
  {
   "cell_type": "code",
   "execution_count": 9,
   "metadata": {},
   "outputs": [
    {
     "name": "stdout",
     "output_type": "stream",
     "text": [
      "**********\n",
      "CPDAG:\n",
      "Vertices: A,B,C,D,E,F\n",
      "A->D\n",
      "B-A\n",
      "B->E\n",
      "C->D\n",
      "F->E\n",
      "\n"
     ]
    },
    {
     "data": {
      "image/png": "[encoded data removed]",
      "text/plain": [
       "<Figure size 432x288 with 1 Axes>"
      ]
     },
     "metadata": {},
     "output_type": "display_data"
    }
   ],
   "source": [
    "m.learn(start='BN(s)',end='CPDAG(s)')\n",
    "print(m.learned_bn.cpdag_str())\n",
    "m.learned_bn.plot()"
   ]
  },
  {
   "cell_type": "markdown",
   "metadata": {},
   "source": [
    "A CPDAG has directed and undirected edges, but in the plot of the CPDAG we only see directed ones which are either black or red. The black edges in the CPDAG should be interpreted as undirected. The reason for plotting the CPDAG in this non-standard manner is that it allows one plot to represent both the learned BN (just ignore the colours) and the learned CPDAG (interpret black edges as undirected).\n",
    "\n",
    "The last Gobnilp stages are `output_shown` and `output_written` but since we have already 'manually' shown the output there is no reason here to progress to those stages."
   ]
  }
 ],
 "metadata": {
  "kernelspec": {
   "display_name": "Python 3",
   "language": "python",
   "name": "python3"
  },
  "language_info": {
   "codemirror_mode": {
    "name": "ipython",
    "version": 3
   },
   "file_extension": ".py",
   "mimetype": "text/x-python",
   "name": "python",
   "nbconvert_exporter": "python",
   "pygments_lexer": "ipython3",
   "version": "3.6.9"
  }
 },
 "nbformat": 4,
 "nbformat_minor": 2
}

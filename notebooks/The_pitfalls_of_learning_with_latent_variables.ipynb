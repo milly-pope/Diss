{
 "cells": [
  {
   "cell_type": "markdown",
   "metadata": {},
   "source": [
    "In this notebook we will see problems caused by latent variables. We start by learning a BN from a dataset called \"latent.dat\"."
   ]
  },
  {
   "cell_type": "code",
   "execution_count": 1,
   "metadata": {},
   "outputs": [
    {
     "name": "stdout",
     "output_type": "stream",
     "text": [
      "Using license file /home/james/gurobi.lic\n",
      "Academic license - for non-commercial use only\n",
      "Changed value of parameter PreCrush to 1\n",
      "   Prev: 0  Min: 0  Max: 1  Default: 0\n",
      "Changed value of parameter CutPasses to 100000\n",
      "   Prev: -1  Min: -1  Max: 2000000000  Default: -1\n",
      "Changed value of parameter GomoryPasses to 100000\n",
      "   Prev: -1  Min: -1  Max: 2000000000  Default: -1\n",
      "Changed value of parameter MIPFocus to 2\n",
      "   Prev: 0  Min: 0  Max: 3  Default: 0\n",
      "Changed value of parameter ZeroHalfCuts to 2\n",
      "   Prev: -1  Min: -1  Max: 2  Default: -1\n",
      "Changed value of parameter MIPGap to 0.0\n",
      "   Prev: 0.0001  Min: 0.0  Max: inf  Default: 0.0001\n",
      "Changed value of parameter MIPGapAbs to 0.0\n",
      "   Prev: 1e-10  Min: 0.0  Max: inf  Default: 1e-10\n",
      "**********\n",
      "BN has score -47095.73985251983\n",
      "**********\n",
      "A<- -10995.31277923398\n",
      "B<-A,E -7147.3928675571005\n",
      "E<- -10911.8504220803\n",
      "C<-D,E -7055.36961708474\n",
      "D<- -10985.814166563709\n",
      "**********\n",
      "bnlearn modelstring = \n",
      "[A][B|E:A][E][C|D:E][D]\n",
      "**********\n",
      "CPDAG:\n",
      "Vertices: A,B,E,C,D\n",
      "A->B\n",
      "E->B\n",
      "E->C\n",
      "D->C\n",
      "\n"
     ]
    },
    {
     "data": {
      "image/png": "[encoded data removed]",
      "text/plain": [
       "<Figure size 432x288 with 1 Axes>"
      ]
     },
     "metadata": {},
     "output_type": "display_data"
    }
   ],
   "source": [
    "from pygobnilp.gobnilp import Gobnilp\n",
    "m = Gobnilp()\n",
    "m.learn(\"latent.dat\")"
   ]
  },
  {
   "cell_type": "markdown",
   "metadata": {},
   "source": [
    "In fact the data \"latent.dat\" is synthetic data generated from a BN with the same structure as the one just learned. So we have successfully learned the 'true' network. It is useful to look at the local scores for each of the five variables. (These are 'BDeu' local scores with the equivalent sample size parameter set to 1.)"
   ]
  },
  {
   "cell_type": "code",
   "execution_count": 2,
   "metadata": {},
   "outputs": [
    {
     "name": "stdout",
     "output_type": "stream",
     "text": [
      "A\n",
      "\t frozenset() -10995.31277923398\n",
      "\t frozenset({'B'}) -9261.366308775898\n",
      "\t frozenset({'E', 'B'}) -9031.158112153433\n",
      "B\n",
      "\t frozenset() -9739.922761872192\n",
      "\t frozenset({'A'}) -8005.97629141411\n",
      "\t frozenset({'E'}) -9132.864764306818\n",
      "\t frozenset({'E', 'A'}) -7147.3928675571005\n",
      "C\n",
      "\t frozenset() -7119.059423788\n",
      "\t frozenset({'D'}) -7078.349701120504\n",
      "\t frozenset({'D', 'E'}) -7055.36961708474\n",
      "D\n",
      "\t frozenset() -10985.814166563709\n",
      "\t frozenset({'C'}) -10945.104443896213\n",
      "\t frozenset({'E', 'C'}) -10925.541722470429\n",
      "E\n",
      "\t frozenset() -10911.8504220803\n",
      "\t frozenset({'B'}) -10304.792424514926\n",
      "\t frozenset({'A', 'B'}) -10074.584227892461\n",
      "\t frozenset({'D', 'C'}) -10908.350883139276\n"
     ]
    }
   ],
   "source": [
    "for child, scored_parentsets in m.local_scores.items():\n",
    "    print(child)\n",
    "    for pas, score in scored_parentsets.items():\n",
    "        print('\\t',pas,score)"
   ]
  },
  {
   "cell_type": "markdown",
   "metadata": {},
   "source": [
    "The key variable is B. The local score for B having both A and E as parents is much better than any other options. For C having both D and E as parents is a little better than D alone. For A, C and E, having no parent is not that much worse than the other options. (Note that many possible parent sets have been 'pruned' away.) \n",
    "As a result we get the 'W' shaped BN where B and C are **not** independent.\n",
    "Consider the conditional independence relations between variables A, B, C and D (ignoring E) represented by the learned BN. \n",
    "1. $A \\perp C$\n",
    "2. $A \\perp D$\n",
    "3. $B \\perp D$\n",
    "4. $A \\perp D | B$\n",
    "5. $A \\perp D | C$\n",
    "6. $B \\perp D | A$\n",
    "\n",
    "None of the 543 DAGs on 4 variables have these and only these 6 conditional independence relations. So what happens when we learn using just the variables A,B,C and D, so that E becomes a *latent* variable? Let's see."
   ]
  },
  {
   "cell_type": "code",
   "execution_count": 3,
   "metadata": {},
   "outputs": [
    {
     "name": "stdout",
     "output_type": "stream",
     "text": [
      "**********\n",
      "BN has score -37065.4529383323\n",
      "**********\n",
      "A<-B -9261.366308775898\n",
      "B<- -9739.922761872192\n",
      "C<-D -7078.349701120504\n",
      "D<- -10985.814166563709\n",
      "**********\n",
      "bnlearn modelstring = \n",
      "[A|B][B][C|D][D]\n",
      "**********\n",
      "CPDAG:\n",
      "Vertices: A,B,C,D\n",
      "B-A\n",
      "D-C\n",
      "\n"
     ]
    },
    {
     "data": {
      "image/png": "[encoded data removed]",
      "text/plain": [
       "<Figure size 432x288 with 1 Axes>"
      ]
     },
     "metadata": {},
     "output_type": "display_data"
    }
   ],
   "source": [
    "m.set_bn_variables('ABCD')\n",
    "m.learn(start='data',palim=None)"
   ]
  },
  {
   "cell_type": "markdown",
   "metadata": {},
   "source": [
    "We end up with a 4 node BN where $B \\perp C$, even though when E was present we learned a BN where $B \\not \\perp C$. This just basically shows the limitations of Gobnilp's form of learning when there are latent variables.\n",
    "\n",
    "The remainder of this notebook just shows the results of learning on various subsets of the original variables."
   ]
  },
  {
   "cell_type": "code",
   "execution_count": 4,
   "metadata": {},
   "outputs": [
    {
     "name": "stdout",
     "output_type": "stream",
     "text": [
      "**********\n",
      "BN has score -26120.34849443609\n",
      "**********\n",
      "A<- -10995.31277923398\n",
      "B<-A -8005.97629141411\n",
      "C<- -7119.059423788\n",
      "**********\n",
      "bnlearn modelstring = \n",
      "[A][B|A][C]\n",
      "**********\n",
      "CPDAG:\n",
      "Vertices: A,B,C\n",
      "A-B\n",
      "\n"
     ]
    },
    {
     "data": {
      "image/png": "[encoded data removed]",
      "text/plain": [
       "<Figure size 432x288 with 1 Axes>"
      ]
     },
     "metadata": {},
     "output_type": "display_data"
    }
   ],
   "source": [
    "m.set_bn_variables('ABC')\n",
    "m.learn(start='data')"
   ]
  },
  {
   "cell_type": "code",
   "execution_count": 5,
   "metadata": {},
   "outputs": [
    {
     "name": "stdout",
     "output_type": "stream",
     "text": [
      "**********\n",
      "BN has score -27804.086629556405\n",
      "**********\n",
      "B<- -9739.922761872192\n",
      "C<- -7119.059423788\n",
      "D<-C -10945.104443896213\n",
      "**********\n",
      "bnlearn modelstring = \n",
      "[B][C][D|C]\n",
      "**********\n",
      "CPDAG:\n",
      "Vertices: B,C,D\n",
      "C-D\n",
      "\n"
     ]
    },
    {
     "data": {
      "image/png": "[encoded data removed]",
      "text/plain": [
       "<Figure size 432x288 with 1 Axes>"
      ]
     },
     "metadata": {},
     "output_type": "display_data"
    }
   ],
   "source": [
    "m.set_bn_variables('BCD')\n",
    "m.learn(start='data')"
   ]
  },
  {
   "cell_type": "code",
   "execution_count": 6,
   "metadata": {},
   "outputs": [
    {
     "name": "stdout",
     "output_type": "stream",
     "text": [
      "**********\n",
      "BN has score -16858.982185660192\n",
      "**********\n",
      "B<- -9739.922761872192\n",
      "C<- -7119.059423788\n",
      "**********\n",
      "bnlearn modelstring = \n",
      "[B][C]\n",
      "**********\n",
      "CPDAG:\n",
      "Vertices: B,C\n",
      "\n"
     ]
    },
    {
     "data": {
      "image/png": "[encoded data removed]",
      "text/plain": [
       "<Figure size 432x288 with 1 Axes>"
      ]
     },
     "metadata": {},
     "output_type": "display_data"
    }
   ],
   "source": [
    "m.set_bn_variables('BC')\n",
    "m.learn(start='data')"
   ]
  }
 ],
 "metadata": {
  "kernelspec": {
   "display_name": "Python 3",
   "language": "python",
   "name": "python3"
  },
  "language_info": {
   "codemirror_mode": {
    "name": "ipython",
    "version": 3
   },
   "file_extension": ".py",
   "mimetype": "text/x-python",
   "name": "python",
   "nbconvert_exporter": "python",
   "pygments_lexer": "ipython3",
   "version": "3.6.9"
  }
 },
 "nbformat": 4,
 "nbformat_minor": 2
}

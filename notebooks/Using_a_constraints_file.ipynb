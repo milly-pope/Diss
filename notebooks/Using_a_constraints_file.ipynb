{
 "cells": [
  {
   "cell_type": "markdown",
   "metadata": {},
   "source": [
    "# Using a constraints file "
   ]
  },
  {
   "cell_type": "markdown",
   "metadata": {},
   "source": [
    "One of the advantages of using integer programming (or indeed any sort of constraint programming) for machine learning is that it is relatively easy to add user constraints to ensure that what is learned is consistent with known information. There are a number of ways of doing this with PyGobnilp. In this notebook we show how to declare constraints by putting them in a file. This method is particularly useful when running Gobnilp as a script from the command line, but here we will demonstrate how it works using an interactive session.\n",
    "\n",
    "We will first of all do some 'vanilla' learning where we just learn an optimal BN from some discrete data."
   ]
  },
  {
   "cell_type": "code",
   "execution_count": 1,
   "metadata": {},
   "outputs": [
    {
     "name": "stdout",
     "output_type": "stream",
     "text": [
      "Using license file /home/james/gurobi.lic\n",
      "Academic license - for non-commercial use only\n",
      "Changed value of parameter PreCrush to 1\n",
      "   Prev: 0  Min: 0  Max: 1  Default: 0\n",
      "Changed value of parameter CutPasses to 100000\n",
      "   Prev: -1  Min: -1  Max: 2000000000  Default: -1\n",
      "Changed value of parameter GomoryPasses to 100000\n",
      "   Prev: -1  Min: -1  Max: 2000000000  Default: -1\n",
      "Changed value of parameter MIPFocus to 2\n",
      "   Prev: 0  Min: 0  Max: 3  Default: 0\n",
      "Changed value of parameter ZeroHalfCuts to 2\n",
      "   Prev: -1  Min: -1  Max: 2  Default: -1\n",
      "Changed value of parameter MIPGap to 0.0\n",
      "   Prev: 0.0001  Min: 0.0  Max: inf  Default: 0.0001\n",
      "Changed value of parameter MIPGapAbs to 0.0\n",
      "   Prev: 1e-10  Min: 0.0  Max: inf  Default: 1e-10\n",
      "**********\n",
      "BN has score -24028.0947783535\n",
      "**********\n",
      "A<- -5502.137377150637\n",
      "B<-A -3688.9395212202216\n",
      "C<- -3501.5105385969146\n",
      "D<-A,C -3555.014444236549\n",
      "E<-B,F -4310.304956470649\n",
      "F<- -3470.18794067853\n",
      "**********\n",
      "bnlearn modelstring = \n",
      "[A][B|A][C][D|A:C][E|F:B][F]\n",
      "**********\n",
      "CPDAG:\n",
      "Vertices: A,B,C,D,E,F\n",
      "A-B\n",
      "A->D\n",
      "B->E\n",
      "C->D\n",
      "F->E\n",
      "\n"
     ]
    },
    {
     "data": {
      "image/png": "[encoded data removed]",
      "text/plain": [
       "<Figure size 432x288 with 1 Axes>"
      ]
     },
     "metadata": {},
     "output_type": "display_data"
    }
   ],
   "source": [
    "from pygobnilp.gobnilp import Gobnilp\n",
    "m = Gobnilp()\n",
    "m.learn('discrete.dat',palim=None)"
   ]
  },
  {
   "cell_type": "markdown",
   "metadata": {},
   "source": [
    "In the learned network A and B are both ancestors of E. Suppose we wanted to learn the optimal (highest-scoring) network *subject to the condition that both A and B are not ancestors of E*. One way to do this is to put this constraint in a constraints file. A constraints file must be a Python module which defines functions effecting the constraints. For our current example, we need to provide an appropriate definition for the function `forbidden_ancestors`.\n",
    "\n",
    "Suppose we created a Python module called `cons1.py` which just contained the following definition:\n",
    "\n",
    "```\n",
    "def forbidden_ancestors(gobnilp):\n",
    "    return [('A','E'),('B','E')]\n",
    "```\n",
    "\n",
    "Then we can do this:"
   ]
  },
  {
   "cell_type": "code",
   "execution_count": 2,
   "metadata": {},
   "outputs": [
    {
     "name": "stdout",
     "output_type": "stream",
     "text": [
      "Changed value of parameter PreCrush to 1\n",
      "   Prev: 0  Min: 0  Max: 1  Default: 0\n",
      "Changed value of parameter CutPasses to 100000\n",
      "   Prev: -1  Min: -1  Max: 2000000000  Default: -1\n",
      "Changed value of parameter GomoryPasses to 100000\n",
      "   Prev: -1  Min: -1  Max: 2000000000  Default: -1\n",
      "Changed value of parameter MIPFocus to 2\n",
      "   Prev: 0  Min: 0  Max: 3  Default: 0\n",
      "Changed value of parameter ZeroHalfCuts to 2\n",
      "   Prev: -1  Min: -1  Max: 2  Default: -1\n",
      "Changed value of parameter MIPGap to 0.0\n",
      "   Prev: 0.0001  Min: 0.0  Max: inf  Default: 0.0001\n",
      "Changed value of parameter MIPGapAbs to 0.0\n",
      "   Prev: 1e-10  Min: 0.0  Max: inf  Default: 1e-10\n",
      "**********\n",
      "BN has score -24035.844609079217\n",
      "**********\n",
      "A<-B -4349.791324894952\n",
      "B<-E,F -4134.331340440418\n",
      "E<- -5468.229676086663\n",
      "F<-E -3026.9672848237205\n",
      "C<- -3501.5105385969146\n",
      "D<-A,C -3555.014444236549\n",
      "**********\n",
      "bnlearn modelstring = \n",
      "[A|B][B|E:F][E][F|E][C][D|A:C]\n",
      "**********\n",
      "CPDAG:\n",
      "Vertices: A,B,E,F,C,D\n",
      "A->D\n",
      "B-A\n",
      "E-B\n",
      "E-F\n",
      "F-B\n",
      "C->D\n",
      "\n"
     ]
    },
    {
     "data": {
      "image/png": "[encoded data removed]",
      "text/plain": [
       "<Figure size 432x288 with 1 Axes>"
      ]
     },
     "metadata": {},
     "output_type": "display_data"
    }
   ],
   "source": [
    "m = Gobnilp()\n",
    "m.learn('discrete.dat',palim=None,consfile='cons1')"
   ]
  },
  {
   "cell_type": "markdown",
   "metadata": {},
   "source": [
    "Notice that this time, neither A nor B are ancestors of E. In fact E is a source node with no parents. Note also that the score of this second network is lower than the first due to these constraints.\n",
    "\n",
    "A `forbidden_ancestors` function is expected to return a list of pairs of forbidden ancestor relations (with the forbidden ancestor the first element of the pair and the forbidden descendent the second element). A user can also provide definitions for the following functions in the same way:\n",
    "\n",
    "* `forbidden_arrows`\n",
    "* `forbidden_adjacencies`\n",
    "* `obligatory_arrows`\n",
    "* `obligatory_adjacencies`\n",
    "* `obligatory_ancestors`\n",
    "* `obligatory_conditional_independences`\n",
    "\n",
    "Note that the function is called with a single argument. This will be the current `Gobnilp` object. This allows the user access, for example, to the set of BN variables. So to require that all variables are parents of, say, E, we can put the following definition in a constraints file:\n",
    "\n",
    "```\n",
    "def obligatory_arrows(gobnilp):\n",
    "    return ([(v,'E') for v in gobnilp.bn_variables if v != 'E'])\n",
    "```\n",
    "\n",
    "Suppose that definition were in a file called `cons2.py` then we can do this:"
   ]
  },
  {
   "cell_type": "code",
   "execution_count": 3,
   "metadata": {},
   "outputs": [
    {
     "name": "stdout",
     "output_type": "stream",
     "text": [
      "Changed value of parameter PreCrush to 1\n",
      "   Prev: 0  Min: 0  Max: 1  Default: 0\n",
      "Changed value of parameter CutPasses to 100000\n",
      "   Prev: -1  Min: -1  Max: 2000000000  Default: -1\n",
      "Changed value of parameter GomoryPasses to 100000\n",
      "   Prev: -1  Min: -1  Max: 2000000000  Default: -1\n",
      "Changed value of parameter MIPFocus to 2\n",
      "   Prev: 0  Min: 0  Max: 3  Default: 0\n",
      "Changed value of parameter ZeroHalfCuts to 2\n",
      "   Prev: -1  Min: -1  Max: 2  Default: -1\n",
      "Changed value of parameter MIPGap to 0.0\n",
      "   Prev: 0.0001  Min: 0.0  Max: inf  Default: 0.0001\n",
      "Changed value of parameter MIPGapAbs to 0.0\n",
      "   Prev: 1e-10  Min: 0.0  Max: inf  Default: 1e-10\n",
      "**********\n",
      "BN has score -25116.974592860606\n",
      "**********\n",
      "A<-B -4349.791324894952\n",
      "B<- -4841.285573475907\n",
      "C<- -3501.5105385969146\n",
      "D<-A,C -3555.014444236549\n",
      "E<-A,B,C,D,F -5399.184770977754\n",
      "F<- -3470.18794067853\n",
      "**********\n",
      "bnlearn modelstring = \n",
      "[A|B][B][C][D|A:C][E|F:C:D:A:B][F]\n",
      "**********\n",
      "CPDAG:\n",
      "Vertices: A,B,C,D,E,F\n",
      "A->D\n",
      "A->E\n",
      "B-A\n",
      "B->E\n",
      "C->D\n",
      "C->E\n",
      "D->E\n",
      "F->E\n",
      "\n"
     ]
    },
    {
     "data": {
      "image/png": "[encoded data removed]",
      "text/plain": [
       "<Figure size 432x288 with 1 Axes>"
      ]
     },
     "metadata": {},
     "output_type": "display_data"
    },
    {
     "data": {
      "text/plain": [
       "{('A', 'E'), ('B', 'E'), ('C', 'E'), ('D', 'E'), ('F', 'E')}"
      ]
     },
     "execution_count": 3,
     "metadata": {},
     "output_type": "execute_result"
    }
   ],
   "source": [
    "m = Gobnilp()\n",
    "m.learn('discrete.dat',palim=None,pruning=False,consfile='cons2')\n",
    "m.obligatory_arrows"
   ]
  },
  {
   "cell_type": "markdown",
   "metadata": {},
   "source": [
    "Sure enough a BN where all other nodes are parents of E is created. The BN learned is an optimal one subject to these constraints.\n",
    "\n",
    "A more complex constraint is to make certain conditional independence relations obligatory. Note that without any constraints we end up with a network where A is **not** independent of C given D. Suppose we wanted to find an optimal network subject to the constraints that A was independent of C given D. We can do this by putting the following function in a constraints file.\n",
    "\n",
    "```\n",
    "def obligatory_conditional_independences(gobnilp):\n",
    "    return [(['A'],['C'],['D'])]\n",
    "```\n",
    "\n",
    "Suppose that definition were in a file called `cons3.py`. Then we can do:"
   ]
  },
  {
   "cell_type": "code",
   "execution_count": 4,
   "metadata": {},
   "outputs": [
    {
     "name": "stdout",
     "output_type": "stream",
     "text": [
      "Changed value of parameter PreCrush to 1\n",
      "   Prev: 0  Min: 0  Max: 1  Default: 0\n",
      "Changed value of parameter CutPasses to 100000\n",
      "   Prev: -1  Min: -1  Max: 2000000000  Default: -1\n",
      "Changed value of parameter GomoryPasses to 100000\n",
      "   Prev: -1  Min: -1  Max: 2000000000  Default: -1\n",
      "Changed value of parameter MIPFocus to 2\n",
      "   Prev: 0  Min: 0  Max: 3  Default: 0\n",
      "Changed value of parameter ZeroHalfCuts to 2\n",
      "   Prev: -1  Min: -1  Max: 2  Default: -1\n",
      "Changed value of parameter MIPGap to 0.0\n",
      "   Prev: 0.0001  Min: 0.0  Max: inf  Default: 0.0001\n",
      "Changed value of parameter MIPGapAbs to 0.0\n",
      "   Prev: 1e-10  Min: 0.0  Max: inf  Default: 1e-10\n",
      "**********\n",
      "BN has score -24832.81475418423\n",
      "**********\n",
      "A<-D -4376.2801910701055\n",
      "D<- -5496.966762872751\n",
      "B<-A -3688.9395212202216\n",
      "C<-D -3490.1353818719726\n",
      "E<-B,F -4310.304956470649\n",
      "F<- -3470.18794067853\n",
      "**********\n",
      "bnlearn modelstring = \n",
      "[A|D][D][B|A][C|D][E|F:B][F]\n",
      "**********\n",
      "CPDAG:\n",
      "Vertices: A,D,B,C,E,F\n",
      "A-B\n",
      "D-A\n",
      "D-C\n",
      "B->E\n",
      "F->E\n",
      "\n"
     ]
    },
    {
     "data": {
      "image/png": "[encoded data removed]",
      "text/plain": [
       "<Figure size 432x288 with 1 Axes>"
      ]
     },
     "metadata": {},
     "output_type": "display_data"
    },
    {
     "name": "stdout",
     "output_type": "stream",
     "text": [
      "Forbidden arrows {('C', 'A'), ('A', 'C')}\n",
      "Forbidden adjacencies {frozenset({'A', 'C'})}\n",
      "Obligatory conditional independences {(frozenset({'A'}), frozenset({'C'}), frozenset({'D'}))}\n"
     ]
    }
   ],
   "source": [
    "m = Gobnilp()\n",
    "m.learn('discrete.dat',palim=None,pruning=False,consfile='cons3')\n",
    "print('Forbidden arrows', m.forbidden_arrows)\n",
    "print('Forbidden adjacencies', m.forbidden_adjacencies)\n",
    "print('Obligatory conditional independences', m.obligatory_conditional_independences)"
   ]
  },
  {
   "cell_type": "markdown",
   "metadata": {},
   "source": [
    "In this BN, A and C are indeed independent given D."
   ]
  }
 ],
 "metadata": {
  "kernelspec": {
   "display_name": "Python 3",
   "language": "python",
   "name": "python3"
  },
  "language_info": {
   "codemirror_mode": {
    "name": "ipython",
    "version": 3
   },
   "file_extension": ".py",
   "mimetype": "text/x-python",
   "name": "python",
   "nbconvert_exporter": "python",
   "pygments_lexer": "ipython3",
   "version": "3.6.9"
  }
 },
 "nbformat": 4,
 "nbformat_minor": 2
}

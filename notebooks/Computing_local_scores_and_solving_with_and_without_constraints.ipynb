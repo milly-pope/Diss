{
 "cells": [
  {
   "cell_type": "markdown",
   "metadata": {},
   "source": [
    "We start, as normal, by creating a `Gobnilp` object to work with:"
   ]
  },
  {
   "cell_type": "code",
   "execution_count": 1,
   "metadata": {},
   "outputs": [
    {
     "name": "stdout",
     "output_type": "stream",
     "text": [
      "Using license file /home/james/gurobi.lic\n",
      "Academic license - for non-commercial use only\n",
      "Changed value of parameter PreCrush to 1\n",
      "   Prev: 0  Min: 0  Max: 1  Default: 0\n",
      "Changed value of parameter CutPasses to 100000\n",
      "   Prev: -1  Min: -1  Max: 2000000000  Default: -1\n",
      "Changed value of parameter GomoryPasses to 100000\n",
      "   Prev: -1  Min: -1  Max: 2000000000  Default: -1\n",
      "Changed value of parameter MIPFocus to 2\n",
      "   Prev: 0  Min: 0  Max: 3  Default: 0\n",
      "Changed value of parameter ZeroHalfCuts to 2\n",
      "   Prev: -1  Min: -1  Max: 2  Default: -1\n",
      "Changed value of parameter MIPGap to 0.0\n",
      "   Prev: 0.0001  Min: 0.0  Max: inf  Default: 0.0001\n",
      "Changed value of parameter MIPGapAbs to 0.0\n",
      "   Prev: 1e-10  Min: 0.0  Max: inf  Default: 1e-10\n"
     ]
    }
   ],
   "source": [
    "from pygobnilp.gobnilp import Gobnilp\n",
    "m = Gobnilp()"
   ]
  },
  {
   "cell_type": "markdown",
   "metadata": {},
   "source": [
    "Now we will create and store 'local scores' from the built-in `alarm_10000.dat` dataset:"
   ]
  },
  {
   "cell_type": "code",
   "execution_count": 2,
   "metadata": {},
   "outputs": [],
   "source": [
    "m.learn('alarm_10000.dat',end='local scores')"
   ]
  },
  {
   "cell_type": "markdown",
   "metadata": {},
   "source": [
    "Note that, since we have stated that learning should `end` after local scores have been computed and stored, a BN is not learned. The computation of these local scores is not immediate, but should not take too long. Since no local score function was specified and no data type specified either, the data will be assumed to be discrete and a BDeu score will be used. \n",
    "\n",
    "The local scores are saved in a dictionary which is the `local_scores` attribute of the `Gobnilp` object. The keys of this dictionary are the BN variables (the names of these variables are given on the first line of `alarm_10000.dat`). "
   ]
  },
  {
   "cell_type": "code",
   "execution_count": 3,
   "metadata": {},
   "outputs": [
    {
     "name": "stdout",
     "output_type": "stream",
     "text": [
      "dict_keys(['ANAPHYLAXIS', 'ARTCO2', 'BP', 'CATECHOL', 'CO', 'CVP', 'DISCONNECT', 'ERRCAUTER', 'ERRLOWOUTPUT', 'EXPCO2', 'FIO2', 'HISTORY', 'HR', 'HRBP', 'HREKG', 'HRSAT', 'HYPOVOLEMIA', 'INSUFFANESTH', 'INTUBATION', 'KINKEDTUBE', 'LVEDVOLUME', 'LVFAILURE', 'MINVOL', 'MINVOLSET', 'PAP', 'PCWP', 'PRESS', 'PULMEMBOLUS', 'PVSAT', 'SAO2', 'SHUNT', 'STROKEVOLUME', 'TPR', 'VENTALV', 'VENTLUNG', 'VENTMACH', 'VENTTUBE'])\n"
     ]
    }
   ],
   "source": [
    "print(m.local_scores.keys())"
   ]
  },
  {
   "cell_type": "markdown",
   "metadata": {},
   "source": [
    "The value associated with each BN variable is a dictionary mapping potential parent sets for that variable to a local score - which states, intuitively, how good it would be for that parent set to be selected. We find that there is variation in the number of parent sets stored:"
   ]
  },
  {
   "cell_type": "code",
   "execution_count": 4,
   "metadata": {},
   "outputs": [
    {
     "name": "stdout",
     "output_type": "stream",
     "text": [
      "ANAPHYLAXIS 5\n",
      "ARTCO2 473\n",
      "BP 266\n",
      "CATECHOL 383\n",
      "CO 469\n",
      "CVP 32\n",
      "DISCONNECT 127\n",
      "ERRCAUTER 22\n",
      "ERRLOWOUTPUT 14\n",
      "EXPCO2 176\n",
      "FIO2 18\n",
      "HISTORY 36\n",
      "HR 154\n",
      "HRBP 135\n",
      "HREKG 122\n",
      "HRSAT 122\n",
      "HYPOVOLEMIA 57\n",
      "INSUFFANESTH 1\n",
      "INTUBATION 211\n",
      "KINKEDTUBE 41\n",
      "LVEDVOLUME 64\n",
      "LVFAILURE 84\n",
      "MINVOL 371\n",
      "MINVOLSET 96\n",
      "PAP 3\n",
      "PCWP 43\n",
      "PRESS 212\n",
      "PULMEMBOLUS 10\n",
      "PVSAT 440\n",
      "SAO2 471\n",
      "SHUNT 162\n",
      "STROKEVOLUME 109\n",
      "TPR 173\n",
      "VENTALV 472\n",
      "VENTLUNG 448\n",
      "VENTMACH 134\n",
      "VENTTUBE 317\n"
     ]
    }
   ],
   "source": [
    "for child, scored_parentsets in m.local_scores.items():\n",
    "    print(child, len(scored_parentsets))"
   ]
  },
  {
   "cell_type": "markdown",
   "metadata": {},
   "source": [
    "ANAPHYLAXIS has a mere 5 parent sets whereas ARTCO2 has 473! This is because `Gobnilp` is using *pruning*. If a variable $X$ has potential parent set $S$ which is a superset of another potential parent set $T$ which has a higher score then $S$ is 'pruned' away. This is because, assuming we do not have any special constraints on allowed BNs, we can never have an optimal BN where $S$ is a parent set, since we could always replace $S$ with $T$ and get a higher scoring BN *without creating a cycle, since we would remove arrows*.\n",
    "\n",
    "It just so happens that more parent sets were pruned for ANAPHYLAXIS than ARTCO2. Let's look at the scored parent sets for ANAPHYLAXIS:"
   ]
  },
  {
   "cell_type": "code",
   "execution_count": 5,
   "metadata": {},
   "outputs": [
    {
     "name": "stdout",
     "output_type": "stream",
     "text": [
      "frozenset() -578.587070487134\n",
      "frozenset({'BP'}) -523.5582005530596\n",
      "frozenset({'CATECHOL'}) -577.4536694322014\n",
      "frozenset({'TPR'}) -471.48556937259855\n",
      "frozenset({'HYPOVOLEMIA', 'BP'}) -518.1711042499956\n"
     ]
    }
   ],
   "source": [
    "for parentset, score in m.local_scores['ANAPHYLAXIS'].items():\n",
    "    print(parentset, score)"
   ]
  },
  {
   "cell_type": "markdown",
   "metadata": {},
   "source": [
    "The empty set has the worst score of the 5 - if any of the non-empty parent set had a worse score it would be pruned.\n",
    "\n",
    "Each local score will be eventually be associated with a Gurobi MIP variable called a *family variable* (since it is associated with a 'child' variable and a parent set). The fewer of these family variables the better since the MIP will be smaller and thus easier for Gurobi to solve. If we have prior knowledge then this can \n",
    "1. reduce the number of local scores, and\n",
    "2. reduce the time required to compute the local scores\n",
    "\n",
    "To provide an example of how prior knowledge can help, let's see how often variables occur in the potential parent sets for ARTCO2:"
   ]
  },
  {
   "cell_type": "code",
   "execution_count": 6,
   "metadata": {},
   "outputs": [
    {
     "name": "stdout",
     "output_type": "stream",
     "text": [
      "Counter({'EXPCO2': 101, 'SHUNT': 98, 'INTUBATION': 93, 'DISCONNECT': 91, 'CATECHOL': 85, 'KINKEDTUBE': 75, 'MINVOLSET': 72, 'VENTMACH': 62, 'PRESS': 60, 'SAO2': 56, 'VENTLUNG': 50, 'VENTTUBE': 50, 'HR': 49, 'HREKG': 42, 'HRSAT': 42, 'HRBP': 41, 'TPR': 40, 'PVSAT': 37, 'MINVOL': 31, 'CO': 25, 'FIO2': 12, 'BP': 7, 'VENTALV': 5, 'STROKEVOLUME': 1})\n"
     ]
    }
   ],
   "source": [
    "from collections import Counter\n",
    "d = Counter()\n",
    "for parent_set in m.local_scores['ARTCO2']:\n",
    "    for v in parent_set:\n",
    "        d[v] += 1\n",
    "print(d)    "
   ]
  },
  {
   "cell_type": "markdown",
   "metadata": {},
   "source": [
    "So, for example KINKEDTUBE occurs in 75 parent sets. Now, suppose we knew that ARTCO2 and KINKEDTUNE had to be independent. Then we should provide this information to Gobnilp. We do this as follows:"
   ]
  },
  {
   "cell_type": "code",
   "execution_count": 7,
   "metadata": {},
   "outputs": [],
   "source": [
    "m.add_obligatory_independence(['ARTCO2'],['KINKEDTUBE'])"
   ]
  },
  {
   "cell_type": "markdown",
   "metadata": {},
   "source": [
    "We can recompute the local scores with this new information available:"
   ]
  },
  {
   "cell_type": "code",
   "execution_count": 8,
   "metadata": {},
   "outputs": [],
   "source": [
    "m.learn(start='data',end='local scores')"
   ]
  },
  {
   "cell_type": "markdown",
   "metadata": {},
   "source": [
    "And now we can check that there should be 75 fewer parents for ARTCO2, and also some reduction in the parent sets for KINKEDTUBE. "
   ]
  },
  {
   "cell_type": "code",
   "execution_count": 9,
   "metadata": {},
   "outputs": [
    {
     "name": "stdout",
     "output_type": "stream",
     "text": [
      "398\n",
      "32\n"
     ]
    }
   ],
   "source": [
    "print(len(m.local_scores['ARTCO2']))\n",
    "print(len(m.local_scores['KINKEDTUBE']))"
   ]
  },
  {
   "cell_type": "markdown",
   "metadata": {},
   "source": [
    "As expected there are $398 = 473 - 75$ fewere parent sets for ARTCO2, and also some reduction in the number of parent sets for KINKEDTUBE. This is because we asserted an independence constraint, which we can get to via the `obligatroy_conditional_indepedences` attribute:"
   ]
  },
  {
   "cell_type": "code",
   "execution_count": 10,
   "metadata": {},
   "outputs": [
    {
     "data": {
      "text/plain": [
       "{(frozenset({'ARTCO2'}), frozenset({'KINKEDTUBE'}), frozenset())}"
      ]
     },
     "execution_count": 10,
     "metadata": {},
     "output_type": "execute_result"
    }
   ],
   "source": [
    "m.obligatory_conditional_independences"
   ]
  },
  {
   "cell_type": "markdown",
   "metadata": {},
   "source": [
    "Note that the independence constraint is stored as a conditional independence constraint with an empty conditioning set (the 3rd set in the tuple above). Also note that `Gobnilp` is taking advantage of this constraint before a MIP problem has been created - to help reduce the number of local scores computed. Naturally this constraint is also taken into account when learning a BN (which is done by constructing and solving a MIP model) to ensure that any learned BN satisfies the constraint.\n",
    "\n",
    "When an independence (or conditional independence) constraint is added (by the user) `Gobnilp` deduces that certain other simpler constraints follow. In our current example, it is deduced that\n",
    "1. there can be no arrow between the two variables, and\n",
    "2. the two variables cannot be adjacent in the undirected skeleton"
   ]
  },
  {
   "cell_type": "code",
   "execution_count": 11,
   "metadata": {},
   "outputs": [
    {
     "data": {
      "text/plain": [
       "{('ARTCO2', 'KINKEDTUBE'), ('KINKEDTUBE', 'ARTCO2')}"
      ]
     },
     "execution_count": 11,
     "metadata": {},
     "output_type": "execute_result"
    }
   ],
   "source": [
    "m.forbidden_arrows"
   ]
  },
  {
   "cell_type": "code",
   "execution_count": 12,
   "metadata": {},
   "outputs": [
    {
     "data": {
      "text/plain": [
       "{frozenset({'ARTCO2', 'KINKEDTUBE'})}"
      ]
     },
     "execution_count": 12,
     "metadata": {},
     "output_type": "execute_result"
    }
   ],
   "source": [
    "m.forbidden_adjacencies"
   ]
  },
  {
   "cell_type": "markdown",
   "metadata": {},
   "source": [
    "Next, let's learn an optimal BN and check that it satisfies the given independence constraint. Since this is a reasonably hard BN learning problem, we'll get the output from Gurobi printed out so we can at least see the progress. We do this by setting the appropriate Gurobi attribute. "
   ]
  },
  {
   "cell_type": "code",
   "execution_count": 13,
   "metadata": {},
   "outputs": [
    {
     "name": "stdout",
     "output_type": "stream",
     "text": [
      "Changed value of parameter OutputFlag to 1\n",
      "   Prev: 0  Min: 0  Max: 1  Default: 1\n",
      "Changed value of parameter PoolSolutions to 1\n",
      "   Prev: 10  Min: 1  Max: 2000000000  Default: 10\n",
      "Changed value of parameter LazyConstraints to 1\n",
      "   Prev: 0  Min: 0  Max: 1  Default: 0\n",
      "Discarded solution information\n",
      "Gurobi Optimizer version 9.0.0 build v9.0.0rc2 (linux64)\n",
      "Optimize a model with 2288 rows, 7349 columns and 158765 nonzeros\n",
      "Model fingerprint: 0x05469d81\n",
      "Variable types: 0 continuous, 7349 integer (7349 binary)\n",
      "Coefficient statistics:\n",
      "  Matrix range     [1e+00, 1e+00]\n",
      "  Objective range  [1e+02, 1e+04]\n",
      "  Bounds range     [1e+00, 1e+00]\n",
      "  RHS range        [1e+00, 1e+00]\n",
      "Presolve removed 663 rows and 383 columns\n",
      "Presolve time: 0.59s\n",
      "Presolved: 1625 rows, 6966 columns, 85959 nonzeros\n",
      "Variable types: 0 continuous, 6966 integer (6966 binary)\n",
      "Found heuristic solution: objective -205904.1188\n",
      "Presolve removed 382 rows and 0 columns\n",
      "Presolved: 1245 rows, 6966 columns, 29441 nonzeros\n",
      "\n",
      "\n",
      "Root relaxation: objective -8.362617e+04, 205 iterations, 0.07 seconds\n",
      "\n",
      "    Nodes    |    Current Node    |     Objective Bounds      |     Work\n",
      " Expl Unexpl |  Obj  Depth IntInf | Incumbent    BestBd   Gap | It/Node Time\n",
      "\n",
      "     0     0 -83626.171    0   45 -205904.12 -83626.171  59.4%     -    0s\n",
      "     0     0 -85269.604    0   80 -205904.12 -85269.604  58.6%     -    1s\n",
      "     0     0 -85480.549    0   27 -205904.12 -85480.549  58.5%     -    1s\n",
      "     0     0 -86385.401    0  150 -205904.12 -86385.401  58.0%     -    1s\n",
      "     0     0 -86613.668    0   38 -205904.12 -86613.668  57.9%     -    2s\n",
      "     0     0 -87014.774    0   55 -205904.12 -87014.774  57.7%     -    2s\n",
      "     0     0 -87143.296    0  144 -205904.12 -87143.296  57.7%     -    2s\n",
      "     0     0 -88898.576    0  213 -205904.12 -88898.576  56.8%     -    2s\n",
      "     0     0 -89005.873    0  217 -205904.12 -89005.873  56.8%     -    2s\n",
      "     0     0 -89824.417    0   88 -205904.12 -89824.417  56.4%     -    2s\n",
      "     0     0 -89896.780    0  246 -205904.12 -89896.780  56.3%     -    3s\n",
      "     0     0 -91142.411    0  193 -205904.12 -91142.411  55.7%     -    3s\n",
      "     0     0 -92995.992    0  186 -205904.12 -92995.992  54.8%     -    3s\n",
      "     0     0 -93483.431    0  180 -205904.12 -93483.431  54.6%     -    3s\n",
      "     0     0 -93641.013    0  213 -205904.12 -93641.013  54.5%     -    3s\n",
      "     0     0 -94145.102    0  170 -205904.12 -94145.102  54.3%     -    3s\n",
      "     0     0 -94604.223    0  202 -205904.12 -94604.223  54.1%     -    3s\n",
      "     0     0 -94694.544    0  222 -205904.12 -94694.544  54.0%     -    3s\n",
      "     0     0 -97376.832    0  310 -205904.12 -97376.832  52.7%     -    4s\n",
      "     0     0 -98992.648    0  256 -205904.12 -98992.648  51.9%     -    4s\n",
      "     0     0 -99201.329    0  325 -205904.12 -99201.329  51.8%     -    4s\n",
      "     0     0 -101251.98    0  319 -205904.12 -101251.98  50.8%     -    4s\n",
      "     0     0 -101572.82    0  328 -205904.12 -101572.82  50.7%     -    4s\n",
      "     0     0 -101934.25    0  319 -205904.12 -101934.25  50.5%     -    4s\n",
      "     0     0 -102294.43    0  337 -205904.12 -102294.43  50.3%     -    5s\n",
      "     0     0 -102508.31    0  337 -205904.12 -102508.31  50.2%     -    5s\n",
      "     0     0 -102800.77    0  329 -205904.12 -102800.77  50.1%     -    5s\n",
      "     0     0 -103069.80    0  346 -205904.12 -103069.80  49.9%     -    5s\n",
      "     0     0 -103214.26    0  341 -205904.12 -103214.26  49.9%     -    6s\n",
      "     0     0 -103325.21    0  321 -205904.12 -103325.21  49.8%     -    6s\n",
      "     0     0 -103379.05    0  341 -205904.12 -103379.05  49.8%     -    6s\n",
      "     0     0 -103587.29    0  376 -205904.12 -103587.29  49.7%     -    6s\n",
      "     0     0 -103737.57    0  362 -205904.12 -103737.57  49.6%     -    7s\n",
      "     0     0 -103816.43    0  401 -205904.12 -103816.43  49.6%     -    7s\n",
      "     0     0 -103978.24    0  356 -205904.12 -103978.24  49.5%     -    7s\n",
      "     0     0 -104047.70    0  331 -205904.12 -104047.70  49.5%     -    8s\n",
      "     0     0 -104077.72    0  350 -205904.12 -104077.72  49.5%     -    8s\n",
      "     0     0 -104085.90    0  275 -205904.12 -104085.90  49.4%     -    8s\n",
      "     0     0 -104114.21    0  263 -205904.12 -104114.21  49.4%     -    8s\n",
      "     0     0 -104114.48    0   76 -205904.12 -104114.48  49.4%     -    8s\n",
      "     0     0 -104193.19    0  324 -205904.12 -104193.19  49.4%     -    9s\n",
      "     0     0 -104193.19    0  324 -205904.12 -104193.19  49.4%     -   10s\n",
      "     0     0 -104243.53    0  336 -205904.12 -104243.53  49.4%     -   14s\n",
      "     0     0 -104243.53    0  336 -205904.12 -104243.53  49.4%     -   15s\n",
      "     0     0 -104257.79    0  368 -205904.12 -104257.79  49.4%     -   15s\n",
      "     0     0 -104277.94    0  335 -205904.12 -104277.94  49.4%     -   15s\n",
      "     0     0 -104284.42    0  331 -205904.12 -104284.42  49.4%     -   16s\n",
      "     0     0 -104286.60    0  219 -205904.12 -104286.60  49.4%     -   16s\n",
      "     0     0 -104288.40    0  328 -205904.12 -104288.40  49.4%     -   16s\n",
      "     0     0 -104404.44    0  211 -205904.12 -104404.44  49.3%     -   17s\n",
      "     0     0 -104419.82    0  223 -205904.12 -104419.82  49.3%     -   18s\n",
      "     0     0 -104458.37    0  231 -205904.12 -104458.37  49.3%     -   19s\n",
      "     0     0 -104489.15    0  376 -205904.12 -104489.15  49.3%     -   20s\n",
      "     0     0 -104498.32    0  252 -205904.12 -104498.32  49.2%     -   20s\n",
      "     0     0 -104545.94    0  362 -205904.12 -104545.94  49.2%     -   21s\n",
      "     0     0 -104550.03    0  380 -205904.12 -104550.03  49.2%     -   21s\n",
      "     0     0 -104554.28    0  376 -205904.12 -104554.28  49.2%     -   21s\n",
      "     0     0 -104555.92    0  404 -205904.12 -104555.92  49.2%     -   22s\n",
      "     0     0 -104589.75    0  361 -205904.12 -104589.75  49.2%     -   23s\n",
      "     0     0 -104591.08    0  340 -205904.12 -104591.08  49.2%     -   23s\n",
      "     0     0 -104597.12    0  331 -205904.12 -104597.12  49.2%     -   24s\n",
      "     0     0 -104599.14    0  383 -205904.12 -104599.14  49.2%     -   24s\n",
      "     0     0 -104600.47    0  374 -205904.12 -104600.47  49.2%     -   25s\n",
      "     0     0 -104602.19    0  428 -205904.12 -104602.19  49.2%     -   25s\n",
      "     0     0 -104603.66    0  386 -205904.12 -104603.66  49.2%     -   26s\n",
      "     0     0 -104604.35    0  425 -205904.12 -104604.35  49.2%     -   27s\n",
      "     0     0 -104604.35    0  422 -205904.12 -104604.35  49.2%     -   29s\n",
      "     0     0 -104604.35    0  422 -205904.12 -104604.35  49.2%     -   30s\n",
      "     0     2 -104619.66    0  422 -205904.12 -104619.66  49.2%     -   34s\n",
      "     3     6 -104702.79    2  287 -205904.12 -104619.66  49.2%   281   35s\n",
      "    68    71 -105210.03   18   36 -205904.12 -104636.05  49.2%   213   41s\n",
      "   156   149 -105793.19   59    - -205904.12 -104701.70  49.2%   165   46s\n",
      "   245   235 -105077.65   21  146 -205904.12 -104701.96  49.2%   142   50s\n",
      "   320   314 -105305.76   38  137 -205904.12 -104701.96  49.2%   145   55s\n",
      "   465   418 -105067.93   10  303 -205904.12 -104703.32  49.1%   131   60s\n",
      "   557   496 -105318.16   62   79 -205904.12 -104730.35  49.1%   123   65s\n",
      "   680   604 -105519.33   86   24 -205904.12 -104755.42  49.1%   116   70s\n",
      "   804   685 -105256.96   35  422 -205904.12 -104775.45  49.1%   106   78s\n",
      "   806   686 -105415.26   77  133 -205904.12 -104775.45  49.1%   106   80s\n",
      "   822   697 -105357.94    7  388 -205904.12 -104775.45  49.1%   104   85s\n",
      "H  822   661                    -105380.9245 -104775.45  0.57%   104   86s\n",
      "   829   666 -105380.92   34  420 -105380.92 -104775.45  0.57%   103   90s\n",
      "H  829   633                    -105335.8191 -104775.45  0.53%   103   90s\n",
      "   834   636 -105335.82   61  402 -105335.82 -104775.45  0.53%   102  100s\n",
      "   842   641 -105335.82   53  440 -105335.82 -104795.70  0.51%   102  107s\n",
      "   845   646 -104844.79   11  363 -105335.82 -104806.09  0.50%   109  111s\n",
      "   855   653 -105181.25   14  219 -105335.82 -104892.57  0.42%   112  115s\n",
      "   907   670 -105106.96   26  188 -105335.82 -104892.57  0.42%   118  120s\n",
      "  1000   672 -105028.09   16  233 -105335.82 -104991.77  0.33%   119  125s\n",
      "  1139   700 -105222.53   25   72 -105335.82 -105011.81  0.31%   116  130s\n",
      "  1252   723 -105246.52   35  274 -105335.82 -105028.84  0.29%   114  135s\n",
      "  1383   715 -105295.50   28  250 -105335.82 -105053.05  0.27%   116  140s\n",
      "  1517   715 -105277.77   23    4 -105335.82 -105073.71  0.25%   114  146s\n",
      "  1587   729 -105260.87   22  240 -105335.82 -105102.16  0.22%   113  150s\n"
     ]
    },
    {
     "name": "stdout",
     "output_type": "stream",
     "text": [
      "H 1679   668                    -105331.8157 -105112.55  0.21%   111  154s\n",
      "  1681   661 -105328.57   57    5 -105331.82 -105118.18  0.20%   112  155s\n",
      "  1772   665 -105240.74   45  108 -105331.82 -105137.80  0.18%   113  161s\n",
      "  1855   649     cutoff   21      -105331.82 -105148.83  0.17%   113  165s\n",
      "  2038   574 -105298.95   27  187 -105331.82 -105168.83  0.15%   110  171s\n",
      "  2182   489 -105315.14   31    - -105331.82 -105193.02  0.13%   110  177s\n",
      "  2267   469 -105315.29   32    - -105331.82 -105207.31  0.12%   110  181s\n",
      "  2380   421 -105317.13   31    - -105331.82 -105216.09  0.11%   108  186s\n",
      "  2608   242 -105331.06   50    6 -105331.82 -105250.11  0.08%   104  193s\n",
      "  2722   245 -105326.39   51    - -105331.82 -105263.63  0.06%   102  195s\n",
      "  2832   233     cutoff   51      -105331.82 -105263.63  0.06%  99.5  200s\n",
      "  3069   249     cutoff   51      -105331.82 -105263.63  0.06%  93.1  208s\n",
      "  3221   316 -105309.24   62   14 -105331.82 -105263.63  0.06%  89.7  212s\n",
      "  3391   381     cutoff   44      -105331.82 -105265.65  0.06%  86.0  217s\n",
      "  3531   436     cutoff   66      -105331.82 -105269.75  0.06%  83.5  222s\n",
      "  3653   430 -105309.61   34    - -105331.82 -105269.75  0.06%  81.5  225s\n",
      "  3906   452 -105305.75   42   10 -105331.82 -105281.87  0.05%  77.3  234s\n",
      "  4256   534 -105304.72   43   19 -105331.82 -105291.81  0.04%  72.3  246s\n",
      "  4615   552     cutoff   44      -105331.82 -105294.08  0.04%  67.9  260s\n",
      "  5048   555 infeasible   67      -105331.82 -105298.01  0.03%  63.8  273s\n",
      "  5513   602 -105331.59   66    - -105331.82 -105298.41  0.03%  60.1  285s\n",
      "  5698   528     cutoff   66      -105331.82 -105304.00  0.03%  58.7  293s\n",
      "  6226   462     cutoff   45      -105331.82 -105308.49  0.02%  55.4  302s\n",
      "  6461   499     cutoff   46      -105331.82 -105309.80  0.02%  54.0  305s\n",
      "  6711   350 -105330.38   48    - -105331.82 -105310.64  0.02%  52.6  311s\n",
      "  6943   401 -105328.10   44    - -105331.82 -105310.64  0.02%  51.3  315s\n",
      "  7154   229     cutoff   48      -105331.82 -105310.64  0.02%  50.2  321s\n",
      "  7343   272     cutoff   44      -105331.82 -105316.75  0.01%  49.2  325s\n",
      "  7538    96 -105321.73   26    5 -105331.82 -105316.75  0.01%  48.4  330s\n",
      "  7906     0 -105329.92   50   11 -105331.82 -105317.78  0.01%  46.7  335s\n",
      "\n",
      "Cutting planes:\n",
      "  User: 792\n",
      "  Gomory: 3\n",
      "  Cover: 1\n",
      "  MIR: 5\n",
      "  Flow cover: 14\n",
      "  Zero half: 109\n",
      "  Lazy constraints: 1110\n",
      "\n",
      "Explored 8178 nodes (381475 simplex iterations) in 338.88 seconds\n",
      "Thread count was 4 (of 4 available processors)\n",
      "\n",
      "Solution count 1: -105332 \n",
      "No other solutions better than -105332\n",
      "\n",
      "Optimal solution found (tolerance 0.00e+00)\n",
      "Best objective -1.053318157194e+05, best bound -1.053318157194e+05, gap 0.0000%\n",
      "\n",
      "User-callback calls 50750, time in user-callback 149.28 sec\n",
      "**********\n",
      "BN has score -105331.81571940292\n",
      "**********\n",
      "ANAPHYLAXIS<-TPR -471.48556937259855\n",
      "TPR<- -10901.914716929197\n",
      "ARTCO2<-VENTALV -1816.018107669981\n",
      "VENTALV<-INTUBATION -7506.456092395529\n",
      "BP<-CO,TPR -4927.80460674889\n",
      "CO<-HR,STROKEVOLUME -2678.9117199075117\n",
      "CATECHOL<-ARTCO2,TPR -1521.301873422577\n",
      "HR<-CATECHOL -3744.599767304855\n",
      "STROKEVOLUME<-HYPOVOLEMIA,LVFAILURE -4437.288938131547\n",
      "CVP<-LVEDVOLUME -3006.6153021322098\n",
      "LVEDVOLUME<-HYPOVOLEMIA,LVFAILURE -3613.5057310384145\n",
      "DISCONNECT<-VENTTUBE -1567.6065855929337\n",
      "VENTTUBE<-INTUBATION,KINKEDTUBE,VENTLUNG -4542.004684191925\n",
      "ERRCAUTER<- -3222.576822231058\n",
      "ERRLOWOUTPUT<- -1972.2788189759885\n",
      "EXPCO2<-ARTCO2,VENTLUNG -1772.659127224848\n",
      "VENTLUNG<-INTUBATION,VENTALV -1274.187317113814\n",
      "FIO2<- -1888.6286705336533\n",
      "HISTORY<-LVFAILURE -637.4903136947833\n",
      "LVFAILURE<- -2010.543210255084\n",
      "HRBP<-ERRLOWOUTPUT,HR -1331.6218853034952\n",
      "HREKG<-ERRCAUTER,HR -1507.9736736634077\n",
      "HRSAT<-ERRCAUTER,HR -1452.085102920697\n",
      "HYPOVOLEMIA<- -4990.780506105162\n",
      "INSUFFANESTH<- -3303.7325344726705\n",
      "INTUBATION<- -3428.3602719444025\n",
      "KINKEDTUBE<- -1558.2831144287484\n",
      "MINVOL<-INTUBATION,VENTLUNG -2061.9057414226554\n",
      "MINVOLSET<-VENTMACH -946.556491622774\n",
      "VENTMACH<-DISCONNECT,VENTTUBE -1896.468405037318\n",
      "PAP<-PULMEMBOLUS -4008.254809145714\n",
      "PULMEMBOLUS<- -583.1474353126687\n",
      "PCWP<-LVEDVOLUME -2233.6875379606645\n",
      "PRESS<-INTUBATION,KINKEDTUBE,VENTTUBE -8478.131859909474\n",
      "PVSAT<-FIO2,VENTALV -846.3768118197622\n",
      "SAO2<-PVSAT,SHUNT -1137.5909747223777\n",
      "SHUNT<-INTUBATION,PULMEMBOLUS -2052.9806218132726\n",
      "**********\n",
      "bnlearn modelstring = \n",
      "[ANAPHYLAXIS|TPR][TPR][ARTCO2|VENTALV][VENTALV|INTUBATION][BP|TPR:CO][CO|HR:STROKEVOLUME][CATECHOL|TPR:ARTCO2][HR|CATECHOL][STROKEVOLUME|LVFAILURE:HYPOVOLEMIA][CVP|LVEDVOLUME][LVEDVOLUME|LVFAILURE:HYPOVOLEMIA][DISCONNECT|VENTTUBE][VENTTUBE|VENTLUNG:INTUBATION:KINKEDTUBE][ERRCAUTER][ERRLOWOUTPUT][EXPCO2|VENTLUNG:ARTCO2][VENTLUNG|INTUBATION:VENTALV][FIO2][HISTORY|LVFAILURE][LVFAILURE][HRBP|HR:ERRLOWOUTPUT][HREKG|HR:ERRCAUTER][HRSAT|HR:ERRCAUTER][HYPOVOLEMIA][INSUFFANESTH][INTUBATION][KINKEDTUBE][MINVOL|VENTLUNG:INTUBATION][MINVOLSET|VENTMACH][VENTMACH|VENTTUBE:DISCONNECT][PAP|PULMEMBOLUS][PULMEMBOLUS][PCWP|LVEDVOLUME][PRESS|INTUBATION:KINKEDTUBE:VENTTUBE][PVSAT|FIO2:VENTALV][SAO2|PVSAT:SHUNT][SHUNT|PULMEMBOLUS:INTUBATION]\n",
      "**********\n",
      "CPDAG:\n",
      "Vertices: ANAPHYLAXIS,TPR,ARTCO2,VENTALV,BP,CO,CATECHOL,HR,STROKEVOLUME,CVP,LVEDVOLUME,DISCONNECT,VENTTUBE,ERRCAUTER,ERRLOWOUTPUT,EXPCO2,VENTLUNG,FIO2,HISTORY,LVFAILURE,HRBP,HREKG,HRSAT,HYPOVOLEMIA,INSUFFANESTH,INTUBATION,KINKEDTUBE,MINVOL,MINVOLSET,VENTMACH,PAP,PULMEMBOLUS,PCWP,PRESS,PVSAT,SAO2,SHUNT\n",
      "TPR-ANAPHYLAXIS\n",
      "TPR->BP\n",
      "TPR->CATECHOL\n",
      "ARTCO2->CATECHOL\n",
      "ARTCO2->EXPCO2\n",
      "VENTALV-ARTCO2\n",
      "VENTALV->PVSAT\n",
      "VENTALV-VENTLUNG\n",
      "CO->BP\n",
      "CATECHOL->HR\n",
      "HR->CO\n",
      "HR->HRBP\n",
      "HR->HREKG\n",
      "HR->HRSAT\n",
      "STROKEVOLUME->CO\n",
      "LVEDVOLUME->CVP\n",
      "LVEDVOLUME->PCWP\n",
      "DISCONNECT-VENTMACH\n",
      "VENTTUBE->DISCONNECT\n",
      "VENTTUBE->PRESS\n",
      "VENTTUBE->VENTMACH\n",
      "ERRCAUTER->HREKG\n",
      "ERRCAUTER->HRSAT\n",
      "ERRLOWOUTPUT->HRBP\n",
      "VENTLUNG->EXPCO2\n",
      "VENTLUNG-MINVOL\n",
      "VENTLUNG->VENTTUBE\n",
      "FIO2->PVSAT\n",
      "LVFAILURE-HISTORY\n",
      "LVFAILURE->LVEDVOLUME\n",
      "LVFAILURE->STROKEVOLUME\n",
      "HYPOVOLEMIA->LVEDVOLUME\n",
      "HYPOVOLEMIA->STROKEVOLUME\n",
      "INTUBATION-MINVOL\n",
      "INTUBATION->PRESS\n",
      "INTUBATION->SHUNT\n",
      "INTUBATION-VENTALV\n",
      "INTUBATION-VENTLUNG\n",
      "INTUBATION->VENTTUBE\n",
      "KINKEDTUBE->PRESS\n",
      "KINKEDTUBE->VENTTUBE\n",
      "VENTMACH->MINVOLSET\n",
      "PULMEMBOLUS-PAP\n",
      "PULMEMBOLUS->SHUNT\n",
      "PVSAT->SAO2\n",
      "SHUNT->SAO2\n",
      "\n"
     ]
    },
    {
     "data": {
      "image/png": "[encoded data removed]",
      "text/plain": [
       "<Figure size 432x288 with 1 Axes>"
      ]
     },
     "metadata": {},
     "output_type": "display_data"
    }
   ],
   "source": [
    "m.learn(start='local scores',gurobi_output=True) # construct a MIP model and get Gurobi to solve it"
   ]
  },
  {
   "cell_type": "markdown",
   "metadata": {},
   "source": [
    "Gobnilp/Gurobi took quite a while to find a provably optimal BN in this case (and recall that we are running with the default parent set limit of 3 - were we to raise that solving would take longer still). As is normal Gobnilp spent some time adding cutting planes to reduce the upper bound on the score of an optimal BN from an original upper bound of -83626.171 down to -104619.66. Then Gurobi builds a search tree by branching on the values of MIP variables, finally finding a BN with a reasonable score at node 822 of this tree. Although at this point we know that the incumbent is close to the best possible BN (gap = 0.57%) it takes quite a while longer and thousands more search nodes before we can be sure we have an optimal BN. \n",
    "\n",
    "It is interesting to compare this to what happens when we learn from this dataset with *no extra constraints*:"
   ]
  },
  {
   "cell_type": "code",
   "execution_count": 14,
   "metadata": {},
   "outputs": [
    {
     "name": "stdout",
     "output_type": "stream",
     "text": [
      "Changed value of parameter PreCrush to 1\n",
      "   Prev: 0  Min: 0  Max: 1  Default: 0\n",
      "Changed value of parameter CutPasses to 100000\n",
      "   Prev: -1  Min: -1  Max: 2000000000  Default: -1\n",
      "Changed value of parameter GomoryPasses to 100000\n",
      "   Prev: -1  Min: -1  Max: 2000000000  Default: -1\n",
      "Changed value of parameter MIPFocus to 2\n",
      "   Prev: 0  Min: 0  Max: 3  Default: 0\n",
      "Changed value of parameter ZeroHalfCuts to 2\n",
      "   Prev: -1  Min: -1  Max: 2  Default: -1\n",
      "Changed value of parameter MIPGap to 0.0\n",
      "   Prev: 0.0001  Min: 0.0  Max: inf  Default: 0.0001\n",
      "Changed value of parameter MIPGapAbs to 0.0\n",
      "   Prev: 1e-10  Min: 0.0  Max: inf  Default: 1e-10\n",
      "Parameter OutputFlag unchanged\n",
      "   Value: 1  Min: 0  Max: 1  Default: 1\n",
      "Changed value of parameter PoolSolutions to 1\n",
      "   Prev: 10  Min: 1  Max: 2000000000  Default: 10\n",
      "Changed value of parameter LazyConstraints to 1\n",
      "   Prev: 0  Min: 0  Max: 1  Default: 0\n",
      "Discarded solution information\n",
      "Gurobi Optimizer version 9.0.0 build v9.0.0rc2 (linux64)\n",
      "Optimize a model with 2304 rows, 7437 columns and 161370 nonzeros\n",
      "Model fingerprint: 0xd35b1531\n",
      "Variable types: 0 continuous, 7437 integer (7437 binary)\n",
      "Coefficient statistics:\n",
      "  Matrix range     [1e+00, 1e+00]\n",
      "  Objective range  [1e+02, 1e+04]\n",
      "  Bounds range     [1e+00, 1e+00]\n",
      "  RHS range        [1e+00, 1e+00]\n",
      "Presolve removed 663 rows and 382 columns\n",
      "Presolve time: 0.61s\n",
      "Presolved: 1641 rows, 7055 columns, 87103 nonzeros\n",
      "Variable types: 0 continuous, 7055 integer (7055 binary)\n",
      "Found heuristic solution: objective -205904.1188\n",
      "Presolve removed 384 rows and 0 columns\n",
      "Presolved: 1259 rows, 7055 columns, 30194 nonzeros\n",
      "\n",
      "\n",
      "Root relaxation: objective -8.362617e+04, 209 iterations, 0.08 seconds\n",
      "\n",
      "    Nodes    |    Current Node    |     Objective Bounds      |     Work\n",
      " Expl Unexpl |  Obj  Depth IntInf | Incumbent    BestBd   Gap | It/Node Time\n",
      "\n",
      "     0     0 -83626.171    0   45 -205904.12 -83626.171  59.4%     -    0s\n",
      "     0     0 -85269.604    0   80 -205904.12 -85269.604  58.6%     -    1s\n",
      "     0     0 -86855.165    0  119 -205904.12 -86855.165  57.8%     -    1s\n",
      "     0     0 -89330.686    0  124 -205904.12 -89330.686  56.6%     -    2s\n",
      "     0     0 -90135.061    0   28 -205904.12 -90135.061  56.2%     -    2s\n",
      "     0     0 -90607.947    0   35 -205904.12 -90607.947  56.0%     -    2s\n",
      "     0     0 -90928.085    0   95 -205904.12 -90928.085  55.8%     -    2s\n",
      "     0     0 -91351.872    0   97 -205904.12 -91351.872  55.6%     -    3s\n",
      "     0     0 -93564.967    0  187 -205904.12 -93564.967  54.6%     -    4s\n",
      "     0     0 -93855.817    0  168 -205904.12 -93855.817  54.4%     -    4s\n",
      "     0     0 -96373.054    0  280 -205904.12 -96373.054  53.2%     -    4s\n",
      "     0     0 -96925.946    0  272 -205904.12 -96925.946  52.9%     -    4s\n",
      "     0     0 -98423.047    0  293 -205904.12 -98423.047  52.2%     -    4s\n",
      "     0     0 -98926.822    0  265 -205904.12 -98926.822  52.0%     -    5s\n",
      "     0     0 -99592.098    0  308 -205904.12 -99592.098  51.6%     -    5s\n",
      "     0     0 -99999.530    0  251 -205904.12 -99999.530  51.4%     -    5s\n",
      "     0     0 -101214.96    0  293 -205904.12 -101214.96  50.8%     -    5s\n",
      "     0     0 -102461.94    0  303 -205904.12 -102461.94  50.2%     -    5s\n",
      "     0     0 -102943.08    0  279 -205904.12 -102943.08  50.0%     -    6s\n",
      "     0     0 -103233.78    0  275 -205904.12 -103233.78  49.9%     -    6s\n",
      "     0     0 -103346.74    0  238 -205904.12 -103346.74  49.8%     -    6s\n",
      "     0     0 -103455.02    0  298 -205904.12 -103455.02  49.8%     -    6s\n",
      "     0     0 -103474.22    0  300 -205904.12 -103474.22  49.7%     -    6s\n",
      "     0     0 -103678.28    0  300 -205904.12 -103678.28  49.6%     -    7s\n",
      "     0     0 -103814.01    0  294 -205904.12 -103814.01  49.6%     -    7s\n",
      "     0     0 -103880.24    0  268 -205904.12 -103880.24  49.5%     -    7s\n",
      "     0     0 -104035.50    0  277 -205904.12 -104035.50  49.5%     -    8s\n",
      "     0     0 -104097.82    0  356 -205904.12 -104097.82  49.4%     -    9s\n",
      "     0     0 -104122.78    0  307 -205904.12 -104122.78  49.4%     -    9s\n",
      "     0     0 -104315.35    0  272 -205904.12 -104315.35  49.3%     -   10s\n",
      "H    0     0                    -107316.9764 -104315.35  2.80%     -   10s\n",
      "     0     0 -104361.56    0  103 -107316.98 -104361.56  2.75%     -   11s\n",
      "     0     0 -104371.37    0  316 -107316.98 -104371.37  2.74%     -   11s\n",
      "     0     0 -104482.11    0  271 -107316.98 -104482.11  2.64%     -   11s\n",
      "     0     0 -104492.67    0  330 -107316.98 -104492.67  2.63%     -   13s\n",
      "     0     0 -104493.91    0  288 -107316.98 -104493.91  2.63%     -   13s\n",
      "     0     0 -104525.72    0  354 -107316.98 -104525.72  2.60%     -   14s\n",
      "     0     0 -104533.65    0  310 -107316.98 -104533.65  2.59%     -   14s\n",
      "     0     0 -104559.47    0  281 -107316.98 -104559.47  2.57%     -   14s\n",
      "     0     0 -104559.76    0  279 -107316.98 -104559.76  2.57%     -   15s\n",
      "     0     0 -104578.83    0  181 -107316.98 -104578.83  2.55%     -   16s\n",
      "     0     0 -104579.25    0  163 -107316.98 -104579.25  2.55%     -   16s\n",
      "     0     0 -104590.93    0  362 -107316.98 -104590.93  2.54%     -   17s\n",
      "     0     0 -104591.84    0  335 -107316.98 -104591.84  2.54%     -   17s\n",
      "     0     0 -104595.89    0  305 -107316.98 -104595.89  2.54%     -   18s\n",
      "H    0     0                    -106678.6779 -104595.89  1.95%     -   19s\n",
      "     0     0 -104597.72    0  331 -106678.68 -104597.72  1.95%     -   19s\n",
      "     0     0 -104602.74    0  328 -106678.68 -104602.74  1.95%     -   20s\n",
      "     0     0 -104603.30    0  294 -106678.68 -104603.30  1.95%     -   20s\n",
      "     0     0 -104614.14    0  322 -106678.68 -104614.14  1.94%     -   21s\n",
      "     0     0 -104614.14    0  322 -106678.68 -104614.14  1.94%     -   26s\n",
      "     0     0 -104616.57    0  354 -106678.68 -104616.57  1.93%     -   29s\n",
      "     0     0 -104620.54    0  387 -106678.68 -104620.54  1.93%     -   30s\n",
      "     0     0 -104621.47    0  405 -106678.68 -104621.47  1.93%     -   30s\n",
      "     0     0 -104625.45    0  352 -106678.68 -104625.45  1.92%     -   31s\n",
      "     0     0 -104626.82    0  382 -106678.68 -104626.82  1.92%     -   31s\n",
      "     0     0 -104627.84    0  395 -106678.68 -104627.84  1.92%     -   32s\n",
      "     0     0 -104628.36    0  399 -106678.68 -104628.36  1.92%     -   32s\n",
      "     0     0 -104641.34    0  361 -106678.68 -104641.34  1.91%     -   33s\n",
      "     0     0 -104642.64    0  349 -106678.68 -104642.64  1.91%     -   34s\n",
      "     0     0 -104653.53    0  321 -106678.68 -104653.53  1.90%     -   34s\n",
      "     0     0 -104655.18    0  364 -106678.68 -104655.18  1.90%     -   35s\n",
      "     0     0 -104662.42    0  356 -106678.68 -104662.42  1.89%     -   36s\n",
      "     0     0 -104664.81    0  359 -106678.68 -104664.81  1.89%     -   36s\n",
      "     0     0 -104666.09    0  358 -106678.68 -104666.09  1.89%     -   36s\n",
      "     0     0 -104669.01    0  323 -106678.68 -104669.01  1.88%     -   37s\n",
      "     0     0 -104669.27    0  347 -106678.68 -104669.27  1.88%     -   37s\n",
      "     0     0 -104678.47    0  378 -106678.68 -104678.47  1.87%     -   38s\n",
      "     0     0 -104679.25    0  368 -106678.68 -104679.25  1.87%     -   39s\n",
      "     0     0 -104680.62    0  383 -106678.68 -104680.62  1.87%     -   40s\n",
      "     0     0 -104680.66    0  383 -106678.68 -104680.66  1.87%     -   40s\n",
      "     0     0 -104682.86    0  404 -106678.68 -104682.86  1.87%     -   41s\n",
      "     0     0 -104682.99    0  404 -106678.68 -104682.99  1.87%     -   41s\n",
      "     0     0 -104684.53    0  411 -106678.68 -104684.53  1.87%     -   42s\n",
      "     0     0 -104684.65    0  423 -106678.68 -104684.65  1.87%     -   42s\n",
      "     0     0 -104686.65    0  392 -106678.68 -104686.65  1.87%     -   43s\n",
      "     0     0 -104687.03    0  389 -106678.68 -104687.03  1.87%     -   43s\n",
      "     0     0 -104701.25    0  379 -106678.68 -104701.25  1.85%     -   44s\n",
      "     0     0 -104703.02    0  426 -106678.68 -104703.02  1.85%     -   45s\n",
      "     0     0 -104703.15    0  415 -106678.68 -104703.15  1.85%     -   46s\n",
      "H    0     0                    -105226.5119 -104703.15  0.50%     -   47s\n",
      "     0     0 -104722.17    0   85 -105226.51 -104722.17  0.48%     -   49s\n",
      "     0     0 -104722.17    0   85 -105226.51 -104722.17  0.48%     -   50s\n",
      "     0     0 -104722.17    0  236 -105226.51 -104722.17  0.48%     -   51s\n",
      "     0     0 -104722.17    0  133 -105226.51 -104722.17  0.48%     -   51s\n"
     ]
    },
    {
     "name": "stdout",
     "output_type": "stream",
     "text": [
      "     0     0 -104722.17    0  321 -105226.51 -104722.17  0.48%     -   51s\n",
      "     0     0 -104722.17    0  404 -105226.51 -104722.17  0.48%     -   51s\n",
      "     0     0 -104722.17    0  389 -105226.51 -104722.17  0.48%     -   52s\n",
      "     0     0 -104722.17    0  425 -105226.51 -104722.17  0.48%     -   52s\n",
      "     0     0 -104722.17    0  388 -105226.51 -104722.17  0.48%     -   52s\n",
      "     0     0 -104722.17    0  385 -105226.51 -104722.17  0.48%     -   53s\n",
      "     0     0 -104722.17    0  419 -105226.51 -104722.17  0.48%     -   54s\n",
      "     0     0 -104722.17    0  317 -105226.51 -104722.17  0.48%     -   55s\n",
      "     0     0 -104722.17    0  355 -105226.51 -104722.17  0.48%     -   55s\n",
      "     0     0 -104722.17    0  414 -105226.51 -104722.17  0.48%     -   56s\n",
      "     0     0 -104722.17    0  412 -105226.51 -104722.17  0.48%     -   57s\n",
      "     0     2 -104722.17    0  412 -105226.51 -104722.17  0.48%     -   60s\n",
      "   124    83 -105141.98   40  155 -105226.51 -104756.15  0.45%   155   65s\n",
      "   229   111     cutoff   32      -105226.51 -104826.92  0.38%   148   70s\n",
      "   353   170 -104990.43   14  353 -105226.51 -104845.79  0.36%   141   75s\n",
      "   424   200     cutoff   26      -105226.51 -104878.16  0.33%   146   80s\n",
      "   558   228     cutoff   19      -105226.51 -104947.94  0.26%   140   85s\n",
      "   742   242 -105193.27   25  209 -105226.51 -105000.91  0.21%   136   90s\n",
      "   881   232 -105097.21   11  169 -105226.51 -105031.30  0.19%   133   95s\n",
      "  1128   246     cutoff   24      -105226.51 -105061.14  0.16%   124  100s\n",
      "  1356   203     cutoff   24      -105226.51 -105099.49  0.12%   119  105s\n",
      "  1571    78 -105167.11   33   53 -105226.51 -105151.51  0.07%   113  110s\n",
      "\n",
      "Cutting planes:\n",
      "  User: 403\n",
      "  Gomory: 5\n",
      "  MIR: 1\n",
      "  Flow cover: 4\n",
      "  Zero half: 73\n",
      "  Lazy constraints: 6\n",
      "\n",
      "Explored 1945 nodes (204343 simplex iterations) in 112.85 seconds\n",
      "Thread count was 4 (of 4 available processors)\n",
      "\n",
      "Solution count 1: -105227 \n",
      "No other solutions better than -105227\n",
      "\n",
      "Optimal solution found (tolerance 0.00e+00)\n",
      "Best objective -1.052265119168e+05, best bound -1.052265119168e+05, gap 0.0000%\n",
      "\n",
      "User-callback calls 21479, time in user-callback 24.94 sec\n",
      "**********\n",
      "BN has score -105226.51191678\n",
      "**********\n",
      "ANAPHYLAXIS<-TPR -471.48556937259855\n",
      "TPR<- -10901.914716929197\n",
      "ARTCO2<-VENTALV -1816.018107669981\n",
      "VENTALV<-INTUBATION,VENTLUNG -1785.1568955858238\n",
      "BP<-CO,TPR -4927.80460674889\n",
      "CO<-HR,STROKEVOLUME -2678.9117199075117\n",
      "CATECHOL<-ARTCO2,TPR -1521.301873422577\n",
      "HR<-CATECHOL -3744.599767304855\n",
      "STROKEVOLUME<-HYPOVOLEMIA,LVFAILURE -4437.288938131547\n",
      "CVP<-LVEDVOLUME -3006.6153021322098\n",
      "LVEDVOLUME<-HYPOVOLEMIA,LVFAILURE -3613.5057310384145\n",
      "DISCONNECT<- -3295.0317430806754\n",
      "ERRCAUTER<- -3222.576822231058\n",
      "ERRLOWOUTPUT<- -1972.2788189759885\n",
      "EXPCO2<-ARTCO2,VENTLUNG -1772.659127224848\n",
      "VENTLUNG<-INTUBATION,KINKEDTUBE,VENTTUBE -3618.0085247885872\n",
      "FIO2<- -1888.6286705336533\n",
      "HISTORY<-LVFAILURE -637.4903136947833\n",
      "LVFAILURE<- -2010.543210255084\n",
      "HRBP<-ERRLOWOUTPUT,HR -1331.6218853034952\n",
      "HREKG<-ERRCAUTER,HR -1507.9736736634077\n",
      "HRSAT<-ERRCAUTER,HR -1452.085102920697\n",
      "HYPOVOLEMIA<- -4990.780506105162\n",
      "INSUFFANESTH<- -3303.7325344726705\n",
      "INTUBATION<- -3428.3602719444025\n",
      "KINKEDTUBE<- -1558.2831144287484\n",
      "MINVOL<-INTUBATION,VENTLUNG -2061.9057414226554\n",
      "MINVOLSET<- -3952.777366733397\n",
      "PAP<- -4194.791057672541\n",
      "PCWP<-LVEDVOLUME -2233.6875379606645\n",
      "PRESS<-INTUBATION,KINKEDTUBE,VENTTUBE -8478.131859909474\n",
      "VENTTUBE<-DISCONNECT,VENTMACH -1814.1386675404356\n",
      "PULMEMBOLUS<-PAP -396.6111867858417\n",
      "PVSAT<-FIO2,VENTALV -846.3768118197622\n",
      "SAO2<-PVSAT,SHUNT -1137.5909747223777\n",
      "SHUNT<-INTUBATION,PULMEMBOLUS -2052.9806218132726\n",
      "VENTMACH<-MINVOLSET -3162.862542532719\n",
      "**********\n",
      "bnlearn modelstring = \n",
      "[ANAPHYLAXIS|TPR][TPR][ARTCO2|VENTALV][VENTALV|VENTLUNG:INTUBATION][BP|TPR:CO][CO|HR:STROKEVOLUME][CATECHOL|TPR:ARTCO2][HR|CATECHOL][STROKEVOLUME|LVFAILURE:HYPOVOLEMIA][CVP|LVEDVOLUME][LVEDVOLUME|LVFAILURE:HYPOVOLEMIA][DISCONNECT][ERRCAUTER][ERRLOWOUTPUT][EXPCO2|VENTLUNG:ARTCO2][VENTLUNG|INTUBATION:KINKEDTUBE:VENTTUBE][FIO2][HISTORY|LVFAILURE][LVFAILURE][HRBP|HR:ERRLOWOUTPUT][HREKG|HR:ERRCAUTER][HRSAT|HR:ERRCAUTER][HYPOVOLEMIA][INSUFFANESTH][INTUBATION][KINKEDTUBE][MINVOL|VENTLUNG:INTUBATION][MINVOLSET][PAP][PCWP|LVEDVOLUME][PRESS|INTUBATION:KINKEDTUBE:VENTTUBE][VENTTUBE|VENTMACH:DISCONNECT][PULMEMBOLUS|PAP][PVSAT|FIO2:VENTALV][SAO2|PVSAT:SHUNT][SHUNT|PULMEMBOLUS:INTUBATION][VENTMACH|MINVOLSET]\n",
      "**********\n",
      "CPDAG:\n",
      "Vertices: ANAPHYLAXIS,TPR,ARTCO2,VENTALV,BP,CO,CATECHOL,HR,STROKEVOLUME,CVP,LVEDVOLUME,DISCONNECT,ERRCAUTER,ERRLOWOUTPUT,EXPCO2,VENTLUNG,FIO2,HISTORY,LVFAILURE,HRBP,HREKG,HRSAT,HYPOVOLEMIA,INSUFFANESTH,INTUBATION,KINKEDTUBE,MINVOL,MINVOLSET,PAP,PCWP,PRESS,VENTTUBE,PULMEMBOLUS,PVSAT,SAO2,SHUNT,VENTMACH\n",
      "TPR-ANAPHYLAXIS\n",
      "TPR->BP\n",
      "TPR->CATECHOL\n",
      "ARTCO2->CATECHOL\n",
      "ARTCO2->EXPCO2\n",
      "VENTALV->ARTCO2\n",
      "VENTALV->PVSAT\n",
      "CO->BP\n",
      "CATECHOL->HR\n",
      "HR->CO\n",
      "HR->HRBP\n",
      "HR->HREKG\n",
      "HR->HRSAT\n",
      "STROKEVOLUME->CO\n",
      "LVEDVOLUME->CVP\n",
      "LVEDVOLUME->PCWP\n",
      "DISCONNECT->VENTTUBE\n",
      "ERRCAUTER->HREKG\n",
      "ERRCAUTER->HRSAT\n",
      "ERRLOWOUTPUT->HRBP\n",
      "VENTLUNG->EXPCO2\n",
      "VENTLUNG->MINVOL\n",
      "VENTLUNG->VENTALV\n",
      "FIO2->PVSAT\n",
      "LVFAILURE-HISTORY\n",
      "LVFAILURE->LVEDVOLUME\n",
      "LVFAILURE->STROKEVOLUME\n",
      "HYPOVOLEMIA->LVEDVOLUME\n",
      "HYPOVOLEMIA->STROKEVOLUME\n",
      "INTUBATION-MINVOL\n",
      "INTUBATION->PRESS\n",
      "INTUBATION->SHUNT\n",
      "INTUBATION-VENTALV\n",
      "INTUBATION->VENTLUNG\n",
      "KINKEDTUBE->PRESS\n",
      "KINKEDTUBE->VENTLUNG\n",
      "MINVOLSET-VENTMACH\n",
      "PAP-PULMEMBOLUS\n",
      "VENTTUBE->PRESS\n",
      "VENTTUBE->VENTLUNG\n",
      "PULMEMBOLUS->SHUNT\n",
      "PVSAT->SAO2\n",
      "SHUNT->SAO2\n",
      "VENTMACH->VENTTUBE\n",
      "\n"
     ]
    },
    {
     "data": {
      "image/png": "[encoded data removed]",
      "text/plain": [
       "<Figure size 432x288 with 1 Axes>"
      ]
     },
     "metadata": {},
     "output_type": "display_data"
    }
   ],
   "source": [
    "m2 = Gobnilp()\n",
    "m2.learn('alarm_10000.dat',gurobi_output=True)"
   ]
  },
  {
   "cell_type": "markdown",
   "metadata": {},
   "source": [
    "Without the independence constraint solving is a lot faster, even though the set of allowed BNs is greater without the constraint. This is basically because Gobnilp is optimised for the case where the only constraint is that the BN is acyclic. \n",
    "\n",
    "The number of \"Lazy constraints\" posted in the two runs is worth examining: without the constraint there are only 6 but with the independence constraint there are 1100. This is because Gobnilp is adding constraints ruling out BNs (strictly speaking ancestral subgraphs of BNs) which do not satisfy the independence constraint. This is a crude method of enforcing (conditional) independence constraints and this adds to the slowness of solving."
   ]
  }
 ],
 "metadata": {
  "kernelspec": {
   "display_name": "Python 3",
   "language": "python",
   "name": "python3"
  },
  "language_info": {
   "codemirror_mode": {
    "name": "ipython",
    "version": 3
   },
   "file_extension": ".py",
   "mimetype": "text/x-python",
   "name": "python",
   "nbconvert_exporter": "python",
   "pygments_lexer": "ipython3",
   "version": "3.6.9"
  }
 },
 "nbformat": 4,
 "nbformat_minor": 2
}
